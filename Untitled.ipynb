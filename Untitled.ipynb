{
 "cells": [
  {
   "cell_type": "code",
   "execution_count": 5,
   "metadata": {},
   "outputs": [
    {
     "name": "stderr",
     "output_type": "stream",
     "text": [
      "Using TensorFlow backend.\n",
      "/usr/local/lib/python3.6/dist-packages/tensorflow/python/framework/dtypes.py:516: FutureWarning: Passing (type, 1) or '1type' as a synonym of type is deprecated; in a future version of numpy, it will be understood as (type, (1,)) / '(1,)type'.\n",
      "  _np_qint8 = np.dtype([(\"qint8\", np.int8, 1)])\n",
      "/usr/local/lib/python3.6/dist-packages/tensorflow/python/framework/dtypes.py:517: FutureWarning: Passing (type, 1) or '1type' as a synonym of type is deprecated; in a future version of numpy, it will be understood as (type, (1,)) / '(1,)type'.\n",
      "  _np_quint8 = np.dtype([(\"quint8\", np.uint8, 1)])\n",
      "/usr/local/lib/python3.6/dist-packages/tensorflow/python/framework/dtypes.py:518: FutureWarning: Passing (type, 1) or '1type' as a synonym of type is deprecated; in a future version of numpy, it will be understood as (type, (1,)) / '(1,)type'.\n",
      "  _np_qint16 = np.dtype([(\"qint16\", np.int16, 1)])\n",
      "/usr/local/lib/python3.6/dist-packages/tensorflow/python/framework/dtypes.py:519: FutureWarning: Passing (type, 1) or '1type' as a synonym of type is deprecated; in a future version of numpy, it will be understood as (type, (1,)) / '(1,)type'.\n",
      "  _np_quint16 = np.dtype([(\"quint16\", np.uint16, 1)])\n",
      "/usr/local/lib/python3.6/dist-packages/tensorflow/python/framework/dtypes.py:520: FutureWarning: Passing (type, 1) or '1type' as a synonym of type is deprecated; in a future version of numpy, it will be understood as (type, (1,)) / '(1,)type'.\n",
      "  _np_qint32 = np.dtype([(\"qint32\", np.int32, 1)])\n",
      "/usr/local/lib/python3.6/dist-packages/tensorflow/python/framework/dtypes.py:525: FutureWarning: Passing (type, 1) or '1type' as a synonym of type is deprecated; in a future version of numpy, it will be understood as (type, (1,)) / '(1,)type'.\n",
      "  np_resource = np.dtype([(\"resource\", np.ubyte, 1)])\n",
      "/usr/local/lib/python3.6/dist-packages/tensorboard/compat/tensorflow_stub/dtypes.py:541: FutureWarning: Passing (type, 1) or '1type' as a synonym of type is deprecated; in a future version of numpy, it will be understood as (type, (1,)) / '(1,)type'.\n",
      "  _np_qint8 = np.dtype([(\"qint8\", np.int8, 1)])\n",
      "/usr/local/lib/python3.6/dist-packages/tensorboard/compat/tensorflow_stub/dtypes.py:542: FutureWarning: Passing (type, 1) or '1type' as a synonym of type is deprecated; in a future version of numpy, it will be understood as (type, (1,)) / '(1,)type'.\n",
      "  _np_quint8 = np.dtype([(\"quint8\", np.uint8, 1)])\n",
      "/usr/local/lib/python3.6/dist-packages/tensorboard/compat/tensorflow_stub/dtypes.py:543: FutureWarning: Passing (type, 1) or '1type' as a synonym of type is deprecated; in a future version of numpy, it will be understood as (type, (1,)) / '(1,)type'.\n",
      "  _np_qint16 = np.dtype([(\"qint16\", np.int16, 1)])\n",
      "/usr/local/lib/python3.6/dist-packages/tensorboard/compat/tensorflow_stub/dtypes.py:544: FutureWarning: Passing (type, 1) or '1type' as a synonym of type is deprecated; in a future version of numpy, it will be understood as (type, (1,)) / '(1,)type'.\n",
      "  _np_quint16 = np.dtype([(\"quint16\", np.uint16, 1)])\n",
      "/usr/local/lib/python3.6/dist-packages/tensorboard/compat/tensorflow_stub/dtypes.py:545: FutureWarning: Passing (type, 1) or '1type' as a synonym of type is deprecated; in a future version of numpy, it will be understood as (type, (1,)) / '(1,)type'.\n",
      "  _np_qint32 = np.dtype([(\"qint32\", np.int32, 1)])\n",
      "/usr/local/lib/python3.6/dist-packages/tensorboard/compat/tensorflow_stub/dtypes.py:550: FutureWarning: Passing (type, 1) or '1type' as a synonym of type is deprecated; in a future version of numpy, it will be understood as (type, (1,)) / '(1,)type'.\n",
      "  np_resource = np.dtype([(\"resource\", np.ubyte, 1)])\n"
     ]
    }
   ],
   "source": [
    "import numpy as np\n",
    "import pandas as pd\n",
    "import matplotlib.pyplot as plt\n",
    "#%matplotlib inline\n",
    "import math\n",
    "from tqdm import tqdm_notebook, tqdm\n",
    "from skimage.draw import ellipse, polygon\n",
    "\n",
    "from keras import Model\n",
    "from keras.callbacks import EarlyStopping, ModelCheckpoint, ReduceLROnPlateau\n",
    "from keras.models import load_model\n",
    "from keras.optimizers import Adam\n",
    "from keras.layers import Input, Conv2D, Conv2DTranspose, MaxPooling2D, concatenate, Dropout\n",
    "from keras.losses import binary_crossentropy\n",
    "import tensorflow as tf\n",
    "import keras as keras\n",
<<<<<<< HEAD
=======
    "from keras import backend as K\n",
    "from tqdm import tqdm_notebook\n",
    "from keras.utils.generic_utils import get_custom_objects\n",
    "\n",
    "from build_madel import build_madel\n",
    "from mymetrics import dice_coef, dice_loss, bce_dice_loss, get_iou_vector, my_iou_metric\n",
    "from code_rle import encode_rle\n",
    "from create_html import generate_html\n",
    "\n",
    "TRUSTVAL = 0.4\n",
    "\n",
    "path = \"data/train\"\n",
    "images = os.listdir(path)"
   ]
  },
  {
   "cell_type": "markdown",
   "metadata": {},
   "source": [
    "## Loss functions\n",
    "Функции для подсчета ошибок лежат в файле [mymetrics.py](mymetrics.py), пользуемся метрикой https://en.wikipedia.org/wiki/Sørensen–Dice_coefficient."
   ]
  },
  {
   "cell_type": "code",
   "execution_count": 4,
   "metadata": {},
   "outputs": [],
   "source": [
    "get_custom_objects().update({'bce_dice_loss': bce_dice_loss })\n",
    "get_custom_objects().update({'dice_loss': dice_loss })\n",
    "get_custom_objects().update({'dice_coef': dice_coef })\n",
    "get_custom_objects().update({'my_iou_metric': my_iou_metric })\n"
   ]
  },
  {
   "cell_type": "markdown",
   "metadata": {},
   "source": [
    "## Build model"
   ]
  },
  {
   "cell_type": "code",
   "execution_count": 7,
   "metadata": {},
   "outputs": [],
   "source": [
    "input_layer = Input((320, 240, 3))\n",
    "output_layer = build_model(input_layer, 16)\n",
    "model = Model(input_layer, output_layer)\n",
    "model.compile(loss=bce_dice_loss, optimizer=Adam(lr=1e-3), metrics=[my_iou_metric])\n",
    "model.save_weights('./keras.weights')"
   ]
  },
  {
   "cell_type": "code",
   "execution_count": 6,
   "metadata": {
    "scrolled": false
   },
   "outputs": [],
   "source": [
    "imagss = [i[:-4] for i in images]\n",
>>>>>>> d22889d227412cfca05fc2b3349d338e972ed0b4
    "\n",
    "from keras import backend as K\n",
    "\n",
<<<<<<< HEAD
    "from tqdm import tqdm_notebook\n",
    "w_size = 256\n",
    "train_num = 8192\n",
    "train_x = np.zeros((train_num, w_size, w_size,3), dtype='float32')\n",
    "train_y = np.zeros((train_num, w_size, w_size,1), dtype='float32')\n",
=======
    "Я пользуюсь оптимизатором [Adam](https://arxiv.org/abs/1412.6980), он проще в настройке и показал себя лучше, чем, например, градиентный спуск.\n",
    "Подбирая параметры я пришел к таким настройкам:"
   ]
  },
  {
   "cell_type": "code",
   "execution_count": 7,
   "metadata": {
    "scrolled": false
   },
   "outputs": [
    {
     "name": "stdout",
     "output_type": "stream",
     "text": [
      "Train on 1183 samples, validate on 132 samples\n",
      "Epoch 1/1\n",
      "1183/1183 [==============================] - 563s 476ms/step - loss: 1.0413 - my_iou_metric: 0.2917 - val_loss: 1.0251 - val_my_iou_metric: 0.3159\n",
      "Train on 1183 samples, validate on 132 samples\n",
      "Epoch 1/1\n",
      "1183/1183 [==============================] - 554s 469ms/step - loss: 0.8234 - my_iou_metric: 0.3993 - val_loss: 0.7228 - val_my_iou_metric: 0.4879\n",
      "Train on 1183 samples, validate on 132 samples\n",
      "Epoch 1/1\n",
      "1183/1183 [==============================] - 562s 475ms/step - loss: 0.6875 - my_iou_metric: 0.4937 - val_loss: 0.6424 - val_my_iou_metric: 0.5462\n",
      "Train on 1183 samples, validate on 132 samples\n",
      "Epoch 1/1\n",
      "1183/1183 [==============================] - 565s 478ms/step - loss: 0.6202 - my_iou_metric: 0.5579 - val_loss: 0.6395 - val_my_iou_metric: 0.5697\n",
      "Train on 1183 samples, validate on 132 samples\n",
      "Epoch 1/1\n",
      "1183/1183 [==============================] - 563s 476ms/step - loss: 0.5756 - my_iou_metric: 0.5852 - val_loss: 0.5913 - val_my_iou_metric: 0.5886\n",
      "Train on 1183 samples, validate on 132 samples\n",
      "Epoch 1/1\n",
      "1183/1183 [==============================] - 560s 473ms/step - loss: 0.5802 - my_iou_metric: 0.5877 - val_loss: 0.6074 - val_my_iou_metric: 0.5871\n"
     ]
    }
   ],
   "source": [
    "counter = 0\n",
    "while True:\n",
    "    history = model.fit(train_x, train_y,\n",
    "                        batch_size=32,\n",
    "                        epochs=1,\n",
    "                        verbose=1,\n",
    "                        validation_split=0.1\n",
    "                       )\n",
    "    \n",
    "    if (history.history['my_iou_metric'][0] > 0.75 or counter > 4):\n",
    "        break\n",
    "    counter+=1"
   ]
  },
  {
   "cell_type": "markdown",
   "metadata": {},
   "source": [
    "## Save as json"
   ]
  },
  {
   "cell_type": "code",
   "execution_count": null,
   "metadata": {},
   "outputs": [],
   "source": [
    "val_path = 'data/valid'\n",
    "val_images = os.listdir(val_path)\n",
    "val_x = np.array([np.array(Image.open(f\"{val_path}/{ind}\"))/255 for ind in val_images])\n",
    "pre = model.predict(val_x)\n",
>>>>>>> d22889d227412cfca05fc2b3349d338e972ed0b4
    "\n",
    "img_l = np.random.sample((w_size, w_size, 3))*0.5\n",
    "img_h = np.random.sample((w_size, w_size, 3))*0.5 + 0.5\n",
    "\n",
    "radius_min = 10\n",
    "radius_max = 30"
   ]
  },
  {
   "cell_type": "markdown",
   "metadata": {},
   "source": [
    "## Save as html page"
   ]
  },
  {
   "cell_type": "code",
   "execution_count": null,
   "metadata": {},
   "outputs": [],
   "source": []
  }
 ],
 "metadata": {
  "kernelspec": {
   "display_name": "Python 3",
   "language": "python",
   "name": "python3"
  },
  "language_info": {
   "codemirror_mode": {
    "name": "ipython",
    "version": 3
   },
   "file_extension": ".py",
   "mimetype": "text/x-python",
   "name": "python",
   "nbconvert_exporter": "python",
   "pygments_lexer": "ipython3",
   "version": "3.6.8"
  }
 },
 "nbformat": 4,
 "nbformat_minor": 2
}
