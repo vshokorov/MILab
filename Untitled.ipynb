{
 "cells": [
  {
   "cell_type": "code",
   "execution_count": 1,
   "metadata": {},
   "outputs": [],
   "source": [
    "import os\n",
    "import numpy as np\n",
    "import matplotlib.pyplot as plt\n",
    "from PIL import Image\n",
    "import json\n",
    "from glob import glob\n",
    "import numpy as np\n",
    "import matplotlib.pyplot as plt\n",
    "import math\n",
    "from keras import Model\n",
    "from keras.callbacks import EarlyStopping, ModelCheckpoint, ReduceLROnPlateau\n",
    "from keras.models import load_model\n",
    "from keras.optimizers import Adam\n",
    "from keras.layers import Input, Conv2D, Conv2DTranspose, MaxPooling2D, concatenate, Dropout\n",
    "from keras.losses import binary_crossentropy\n",
    "import tensorflow as tf\n",
    "import keras as keras\n",
    "from keras import backend as K\n",
    "from tqdm import tqdm_notebook\n",
    "from keras.utils.generic_utils import get_custom_objects\n",
    "\n",
    "from build_madel import build_madel\n",
    "from mymetrics import dice_coef, dice_loss, bce_dice_loss, get_iou_vector, my_iou_metric\n",
    "from code_rle import encode_rle\n",
    "from create_html import generate_html\n",
    "\n",
    "TRUSTVAL = 0.4\n",
    "\n",
    "path = \"data/train\"\n",
    "images = os.listdir(path)"
   ]
  },
  {
   "cell_type": "markdown",
   "metadata": {},
   "source": [
    "## Loss functions\n",
    "Функции для подсчета ошибок лежат в файле [mymetrics.py](mymetrics.py), пользуемся метрикой https://en.wikipedia.org/wiki/Sørensen–Dice_coefficient."
   ]
  },
  {
   "cell_type": "code",
   "execution_count": 4,
   "metadata": {},
   "outputs": [],
   "source": [
    "get_custom_objects().update({'bce_dice_loss': bce_dice_loss })\n",
    "get_custom_objects().update({'dice_loss': dice_loss })\n",
    "get_custom_objects().update({'dice_coef': dice_coef })\n",
    "get_custom_objects().update({'my_iou_metric': my_iou_metric })\n"
   ]
  },
  {
   "cell_type": "markdown",
   "metadata": {},
   "source": [
    "## Build model"
   ]
  },
  {
   "cell_type": "code",
   "execution_count": 7,
   "metadata": {},
   "outputs": [],
   "source": [
    "input_layer = Input((320, 240, 3))\n",
    "output_layer = build_model(input_layer, 16)\n",
    "model = Model(input_layer, output_layer)\n",
    "model.compile(loss=bce_dice_loss, optimizer=Adam(lr=1e-3), metrics=[my_iou_metric])\n",
    "model.save_weights('./keras.weights')"
   ]
  },
  {
   "cell_type": "code",
   "execution_count": 6,
   "metadata": {
    "scrolled": false
   },
   "outputs": [],
   "source": [
    "imagss = [i[:-4] for i in images]\n",
    "\n",
    "train_x = np.array([np.array(Image.open(f\"{path}/{ind}.jpg\"))/255 for ind in imagss])\n",
    "train_y = np.array([[np.array(Image.open(f\"{path}_mask/{ind}.png\"))/255] for ind in imagss]).reshape((1315, 320, 240, 1))"
   ]
  },
  {
   "cell_type": "markdown",
   "metadata": {},
   "source": [
    "## Train model\n",
    "\n",
    "Я пользуюсь оптимизатором [Adam](https://arxiv.org/abs/1412.6980), он проще в настройке и показал себя лучше, чем, например, градиентный спуск.\n",
    "Подбирая параметры я пришел к таким настройкам:"
   ]
  },
  {
   "cell_type": "code",
   "execution_count": 7,
   "metadata": {
    "scrolled": false
   },
   "outputs": [
    {
     "name": "stdout",
     "output_type": "stream",
     "text": [
      "Train on 1183 samples, validate on 132 samples\n",
      "Epoch 1/1\n",
      "1183/1183 [==============================] - 563s 476ms/step - loss: 1.0413 - my_iou_metric: 0.2917 - val_loss: 1.0251 - val_my_iou_metric: 0.3159\n",
      "Train on 1183 samples, validate on 132 samples\n",
      "Epoch 1/1\n",
      "1183/1183 [==============================] - 554s 469ms/step - loss: 0.8234 - my_iou_metric: 0.3993 - val_loss: 0.7228 - val_my_iou_metric: 0.4879\n",
      "Train on 1183 samples, validate on 132 samples\n",
      "Epoch 1/1\n",
      "1183/1183 [==============================] - 562s 475ms/step - loss: 0.6875 - my_iou_metric: 0.4937 - val_loss: 0.6424 - val_my_iou_metric: 0.5462\n",
      "Train on 1183 samples, validate on 132 samples\n",
      "Epoch 1/1\n",
      "1183/1183 [==============================] - 565s 478ms/step - loss: 0.6202 - my_iou_metric: 0.5579 - val_loss: 0.6395 - val_my_iou_metric: 0.5697\n",
      "Train on 1183 samples, validate on 132 samples\n",
      "Epoch 1/1\n",
      "1183/1183 [==============================] - 563s 476ms/step - loss: 0.5756 - my_iou_metric: 0.5852 - val_loss: 0.5913 - val_my_iou_metric: 0.5886\n",
      "Train on 1183 samples, validate on 132 samples\n",
      "Epoch 1/1\n",
      "1183/1183 [==============================] - 560s 473ms/step - loss: 0.5802 - my_iou_metric: 0.5877 - val_loss: 0.6074 - val_my_iou_metric: 0.5871\n"
     ]
    }
   ],
   "source": [
    "counter = 0\n",
    "while True:\n",
    "    history = model.fit(train_x, train_y,\n",
    "                        batch_size=32,\n",
    "                        epochs=1,\n",
    "                        verbose=1,\n",
    "                        validation_split=0.1\n",
    "                       )\n",
    "    \n",
    "    if (history.history['my_iou_metric'][0] > 0.75 or counter > 4):\n",
    "        break\n",
    "    counter+=1"
   ]
  },
  {
   "cell_type": "markdown",
   "metadata": {},
   "source": [
    "## Save as json"
   ]
  },
  {
   "cell_type": "code",
   "execution_count": null,
   "metadata": {},
   "outputs": [],
   "source": [
    "val_path = 'data/valid'\n",
    "val_images = os.listdir(val_path)\n",
    "val_x = np.array([np.array(Image.open(f\"{val_path}/{ind}\"))/255 for ind in val_images])\n",
    "pre = model.predict(val_x)\n",
    "\n",
    "data = {val_images[i][:-4]:encode_rle(pre[i] > TRUSTVAL) for i in range(len(val_x))}\n",
    "\n",
    "json_data = json.dumps(data)"
   ]
  },
  {
   "cell_type": "code",
   "execution_count": null,
   "metadata": {},
   "outputs": [],
   "source": [
    "with open('data.json', 'w') as f:\n",
    "    json.dump(json_data, f)"
   ]
  },
  {
   "cell_type": "markdown",
   "metadata": {},
   "source": [
    "## Save as html page"
   ]
  },
  {
   "cell_type": "code",
   "execution_count": null,
   "metadata": {},
   "outputs": [],
   "source": [
    "for i in range(len(val_x)):\n",
    "    a = (pre[i] > TRUSTVAL).astype(np.uint8)*255\n",
    "    j = Image.fromarray(a.reshape((320, 240)), mode = 'L')\n",
    "    j.save(\"data/validMask/\" + val_images[i])"
   ]
  },
  {
   "cell_type": "code",
   "execution_count": null,
   "metadata": {},
   "outputs": [],
   "source": [
    "from datetime import datetime\n",
    "\n",
    "paths_to_imgs = sorted(glob(\"data/valid/*\"))\n",
    "pred_masks = [np.array(Image.open(path)) for path in sorted(glob(\"data/validMask/*\"))]\n",
    "\n",
    "_ = get_html(paths_to_imgs, pred_masks, path_to_save=\"results/example\")"
   ]
  }
 ],
 "metadata": {
  "kernelspec": {
   "display_name": "Python 3",
   "language": "python",
   "name": "python3"
  },
  "language_info": {
   "codemirror_mode": {
    "name": "ipython",
    "version": 3
   },
   "file_extension": ".py",
   "mimetype": "text/x-python",
   "name": "python",
   "nbconvert_exporter": "python",
   "pygments_lexer": "ipython3",
   "version": "3.6.8"
  }
 },
 "nbformat": 4,
 "nbformat_minor": 2
}
